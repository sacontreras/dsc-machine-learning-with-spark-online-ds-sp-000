{
 "cells": [
  {
   "cell_type": "markdown",
   "metadata": {},
   "source": [
    "# Machine Learning with Spark\n",
    "\n",
    "## Introduction\n",
    "\n",
    "You've now explored how to perform operations on Spark RDDs for simple MapReduce tasks. Luckily, there are far more advanced use cases for Spark, and many of them are found in the `ml` library, which we are going to explore in this lesson.\n",
    "\n",
    "\n",
    "## Objectives\n",
    "\n",
    "You will be able to: \n",
    "\n",
    "- Load and manipulate data using Spark DataFrames  \n",
    "- Define estimators and transformers in Spark ML \n",
    "- Create a Spark ML pipeline that transforms data and runs over a grid of hyperparameters \n",
    "\n",
    "\n",
    "\n",
    "## A Tale of Two Libraries\n",
    "\n",
    "If you look at the PySpark documentation, you'll notice that there are two different libraries for machine learning, [mllib](https://spark.apache.org/docs/latest/api/python/pyspark.mllib.html) and [ml](https://spark.apache.org/docs/latest/api/python/pyspark.ml.html). These libraries are extremely similar to one another, the only difference being that the `mllib` library is built upon the RDDs you just practiced using; whereas, the `ml` library is built on higher level Spark DataFrames, which has methods and attributes similar to pandas. Spark has stated that in the future, it is going to devote more effort to the `ml` library and that `mllib` will become deprecated. It's important to note that these libraries are much younger than pandas and scikit-learn and there are not as many features present in either.\n",
    "\n",
    "## Spark DataFrames\n",
    "\n",
    "In the previous lessons, you were introduced to SparkContext as the primary way to connect with a Spark Application. Here, we will be using SparkSession, which is from the [sql](https://spark.apache.org/docs/latest/api/python/pyspark.sql.html) component of PySpark. The SparkSession acts the same way as SparkContext; it is a bridge between Python and the Spark Application. It's just built on top of the Spark SQL API, a higher-level API than RDDs. In fact, a SparkContext object is spun up around which the SparkSession object is wrapped. Let's go through the process of manipulating some data here. For this example, we're going to be using the [Forest Fire dataset](https://archive.ics.uci.edu/ml/datasets/Forest+Fires) from UCI, which contains data about the area burned by wildfires in the Northeast region of Portugal in relation to numerous other factors.\n",
    "\n",
    "To begin with, let's create a SparkSession so that we can spin up our spark application. "
   ]
  },
  {
   "cell_type": "code",
   "execution_count": 1,
   "metadata": {},
   "outputs": [],
   "source": [
    "# importing the necessary libraries\n",
    "from pyspark import SparkContext\n",
    "from pyspark.sql import SparkSession\n",
    "# sc = SparkContext('local[*]')\n",
    "# spark = SparkSession(sc)"
   ]
  },
  {
   "cell_type": "markdown",
   "metadata": {},
   "source": [
    "To create a SparkSession: "
   ]
  },
  {
   "cell_type": "code",
   "execution_count": 2,
   "metadata": {},
   "outputs": [],
   "source": [
    "spark = SparkSession.builder.master('local').getOrCreate()"
   ]
  },
  {
   "cell_type": "markdown",
   "metadata": {},
   "source": [
    "Now, we'll load the data into a PySpark DataFrame: "
   ]
  },
  {
   "cell_type": "code",
   "execution_count": 3,
   "metadata": {},
   "outputs": [
    {
     "data": {
      "text/plain": [
       "pyspark.sql.dataframe.DataFrame"
      ]
     },
     "execution_count": 3,
     "metadata": {},
     "output_type": "execute_result"
    }
   ],
   "source": [
    "## reading in pyspark df\n",
    "spark_df = spark.read.csv('./forestfires.csv', header='true', inferSchema='true')\n",
    "\n",
    "## observing the datatype of df\n",
    "type(spark_df)"
   ]
  },
  {
   "cell_type": "markdown",
   "metadata": {},
   "source": [
    "You'll notice that some of the methods are extremely similar or the same as those found within Pandas."
   ]
  },
  {
   "cell_type": "code",
   "execution_count": 4,
   "metadata": {},
   "outputs": [
    {
     "data": {
      "text/plain": [
       "Row(X=7, Y=5, month='mar', day='fri', FFMC=86.2, DMC=26.2, DC=94.3, ISI=5.1, temp=8.2, RH=51, wind=6.7, rain=0.0, area=0.0)"
      ]
     },
     "execution_count": 4,
     "metadata": {},
     "output_type": "execute_result"
    }
   ],
   "source": [
    "spark_df.head()"
   ]
  },
  {
   "cell_type": "code",
   "execution_count": 5,
   "metadata": {},
   "outputs": [
    {
     "data": {
      "text/plain": [
       "['X',\n",
       " 'Y',\n",
       " 'month',\n",
       " 'day',\n",
       " 'FFMC',\n",
       " 'DMC',\n",
       " 'DC',\n",
       " 'ISI',\n",
       " 'temp',\n",
       " 'RH',\n",
       " 'wind',\n",
       " 'rain',\n",
       " 'area']"
      ]
     },
     "execution_count": 5,
     "metadata": {},
     "output_type": "execute_result"
    }
   ],
   "source": [
    "spark_df.columns"
   ]
  },
  {
   "cell_type": "markdown",
   "metadata": {},
   "source": [
    "Selecting multiple columns is similar as well: "
   ]
  },
  {
   "cell_type": "code",
   "execution_count": 6,
   "metadata": {},
   "outputs": [
    {
     "data": {
      "text/plain": [
       "DataFrame[month: string, day: string, rain: double]"
      ]
     },
     "execution_count": 6,
     "metadata": {},
     "output_type": "execute_result"
    }
   ],
   "source": [
    "spark_df[['month','day','rain']]"
   ]
  },
  {
   "cell_type": "markdown",
   "metadata": {},
   "source": [
    "But selecting one column is different. If you want to maintain the methods of a spark DataFrame, you should use the `.select()` method. If you want to just select the column, you can use the same method you would use in pandas (this is primarily what you would use if you're attempting to create a boolean mask). "
   ]
  },
  {
   "cell_type": "code",
   "execution_count": 7,
   "metadata": {
    "scrolled": true
   },
   "outputs": [],
   "source": [
    "d = spark_df.select('rain')"
   ]
  },
  {
   "cell_type": "code",
   "execution_count": 8,
   "metadata": {},
   "outputs": [
    {
     "data": {
      "text/plain": [
       "Column<b'rain'>"
      ]
     },
     "execution_count": 8,
     "metadata": {},
     "output_type": "execute_result"
    }
   ],
   "source": [
    "spark_df['rain']"
   ]
  },
  {
   "cell_type": "markdown",
   "metadata": {},
   "source": [
    "Let's take a look at all of our data types in this dataframe"
   ]
  },
  {
   "cell_type": "code",
   "execution_count": 9,
   "metadata": {},
   "outputs": [
    {
     "data": {
      "text/plain": [
       "[('X', 'int'),\n",
       " ('Y', 'int'),\n",
       " ('month', 'string'),\n",
       " ('day', 'string'),\n",
       " ('FFMC', 'double'),\n",
       " ('DMC', 'double'),\n",
       " ('DC', 'double'),\n",
       " ('ISI', 'double'),\n",
       " ('temp', 'double'),\n",
       " ('RH', 'int'),\n",
       " ('wind', 'double'),\n",
       " ('rain', 'double'),\n",
       " ('area', 'double')]"
      ]
     },
     "execution_count": 9,
     "metadata": {},
     "output_type": "execute_result"
    }
   ],
   "source": [
    "spark_df.dtypes"
   ]
  },
  {
   "cell_type": "markdown",
   "metadata": {},
   "source": [
    "## Aggregations with our DataFrame"
   ]
  },
  {
   "cell_type": "markdown",
   "metadata": {},
   "source": [
    "Let's investigate to see if there is any correlation between what month it is and the area of fire: "
   ]
  },
  {
   "cell_type": "code",
   "execution_count": 10,
   "metadata": {},
   "outputs": [
    {
     "data": {
      "text/plain": [
       "DataFrame[month: string, avg(area): double]"
      ]
     },
     "execution_count": 10,
     "metadata": {},
     "output_type": "execute_result"
    }
   ],
   "source": [
    "spark_df_months = spark_df.groupBy('month').agg({'area': 'mean'})\n",
    "spark_df_months"
   ]
  },
  {
   "cell_type": "markdown",
   "metadata": {},
   "source": [
    "Notice how the grouped DataFrame is not returned when you call the aggregation method. Remember, this is still Spark! The transformations and actions are kept separate so that it is easier to manage large quantities of data. You can perform the transformation by calling `.collect()`: "
   ]
  },
  {
   "cell_type": "code",
   "execution_count": 11,
   "metadata": {},
   "outputs": [
    {
     "data": {
      "text/plain": [
       "[Row(month='jun', avg(area)=5.841176470588234),\n",
       " Row(month='aug', avg(area)=12.489076086956521),\n",
       " Row(month='may', avg(area)=19.24),\n",
       " Row(month='feb', avg(area)=6.275),\n",
       " Row(month='sep', avg(area)=17.942616279069753),\n",
       " Row(month='mar', avg(area)=4.356666666666667),\n",
       " Row(month='oct', avg(area)=6.638),\n",
       " Row(month='jul', avg(area)=14.3696875),\n",
       " Row(month='nov', avg(area)=0.0),\n",
       " Row(month='apr', avg(area)=8.891111111111112),\n",
       " Row(month='dec', avg(area)=13.33),\n",
       " Row(month='jan', avg(area)=0.0)]"
      ]
     },
     "execution_count": 11,
     "metadata": {},
     "output_type": "execute_result"
    }
   ],
   "source": [
    "spark_df_months.collect()"
   ]
  },
  {
   "cell_type": "markdown",
   "metadata": {},
   "source": [
    "As you can see, there seem to be larger area fires during what would be considered the summer months in Portugal. On your own, practice more aggregations and manipulations that you might be able to perform on this dataset. "
   ]
  },
  {
   "cell_type": "markdown",
   "metadata": {},
   "source": [
    "## Boolean Masking \n",
    "\n",
    "Boolean masking also works with PySpark DataFrames just like Pandas DataFrames, the only difference being that the `.filter()` method is used in PySpark. To try this out, let's compare the amount of fire in those areas with absolutely no rain to those areas that had rain."
   ]
  },
  {
   "cell_type": "code",
   "execution_count": 12,
   "metadata": {},
   "outputs": [],
   "source": [
    "no_rain = spark_df.filter(spark_df['rain'] == 0.0)\n",
    "some_rain = spark_df.filter(spark_df['rain'] > 0.0)"
   ]
  },
  {
   "cell_type": "markdown",
   "metadata": {},
   "source": [
    "Now, to perform calculations to find the mean of a column, we'll have to import functions from `pyspark.sql`. As always, to read more about them, check out the [documentation](https://spark.apache.org/docs/latest/api/python/pyspark.sql.html#module-pyspark.sql.functions)."
   ]
  },
  {
   "cell_type": "code",
   "execution_count": 13,
   "metadata": {},
   "outputs": [
    {
     "name": "stdout",
     "output_type": "stream",
     "text": [
      "+------------------+\n",
      "|         avg(area)|\n",
      "+------------------+\n",
      "|13.023693516699408|\n",
      "+------------------+\n",
      "\n",
      "no rain fire area:  None \n",
      "\n",
      "+---------+\n",
      "|avg(area)|\n",
      "+---------+\n",
      "|  1.62375|\n",
      "+---------+\n",
      "\n",
      "some rain fire area:  None \n",
      "\n"
     ]
    }
   ],
   "source": [
    "from pyspark.sql.functions import mean\n",
    "\n",
    "print('no rain fire area: ', no_rain.select(mean('area')).show(),'\\n')\n",
    "\n",
    "print('some rain fire area: ', some_rain.select(mean('area')).show(),'\\n')"
   ]
  },
  {
   "cell_type": "markdown",
   "metadata": {},
   "source": [
    "Yes there's definitely something there! Unsurprisingly, rain plays in a big factor in the spread of wildfire.\n",
    "\n",
    "Let's obtain data from only the summer months in Portugal (June, July, and August). We can also do the same for the winter months in Portugal (December, January, February)."
   ]
  },
  {
   "cell_type": "code",
   "execution_count": 14,
   "metadata": {},
   "outputs": [
    {
     "name": "stdout",
     "output_type": "stream",
     "text": [
      "+------------------+\n",
      "|         avg(area)|\n",
      "+------------------+\n",
      "|12.262317596566525|\n",
      "+------------------+\n",
      "\n",
      "summer months fire area None\n",
      "+-----------------+\n",
      "|        avg(area)|\n",
      "+-----------------+\n",
      "|7.918387096774193|\n",
      "+-----------------+\n",
      "\n",
      "winter months fire areas None\n"
     ]
    }
   ],
   "source": [
    "summer_months = spark_df.filter(spark_df['month'].isin(['jun','jul','aug']))\n",
    "winter_months = spark_df.filter(spark_df['month'].isin(['dec','jan','feb']))\n",
    "\n",
    "print('summer months fire area', summer_months.select(mean('area')).show())\n",
    "print('winter months fire areas', winter_months.select(mean('area')).show())"
   ]
  },
  {
   "cell_type": "markdown",
   "metadata": {},
   "source": [
    "## Machine Learning\n",
    "\n",
    "Now that we've performed some data manipulation and aggregation, lets get to the really cool stuff, machine learning! PySpark states that they've used scikit-learn as an inspiration for their implementation of a machine learning library. As a result, many of the methods and functionalities look similar, but there are some crucial distinctions. There are three main concepts found within the ML library:\n",
    "\n",
    "`Transformer`: An algorithm that transforms one PySpark DataFrame into another DataFrame. \n",
    "\n",
    "`Estimator`: An algorithm that can be fit onto a PySpark DataFrame that can then be used as a Transformer. \n",
    "\n",
    "`Pipeline`: A pipeline very similar to an `sklearn` pipeline that chains together different actions.\n",
    "\n",
    "The reasoning behind this separation of the fitting and transforming step is because Spark is lazily evaluated, so the 'fitting' of a model does not actually take place until the Transformation action is called. Let's examine what this actually looks like by performing a regression on the Forest Fire dataset. To start off with, we'll import the necessary libraries for our tasks."
   ]
  },
  {
   "cell_type": "code",
   "execution_count": 15,
   "metadata": {},
   "outputs": [
    {
     "data": {
      "text/plain": [
       "'3.0.0'"
      ]
     },
     "execution_count": 15,
     "metadata": {},
     "output_type": "execute_result"
    }
   ],
   "source": [
    "from pyspark.ml.regression import RandomForestRegressor\n",
    "from pyspark.ml import feature\n",
    "# from pyspark.ml.feature import StringIndexer, VectorAssembler, OneHotEncoderEstimator\n",
    "from pyspark.ml.feature import StringIndexer, VectorAssembler, OneHotEncoder\n",
    "\n",
    "spark.version"
   ]
  },
  {
   "cell_type": "markdown",
   "metadata": {},
   "source": [
    "Looking at our data, one can see that all the categories are numerical except for day and month. We saw some correlation between the month and area burned in a fire, so we will include that in our model. The day of the week, however, is highly unlikely to have any effect on fire, so we will drop it from the DataFrame."
   ]
  },
  {
   "cell_type": "code",
   "execution_count": 16,
   "metadata": {},
   "outputs": [
    {
     "data": {
      "text/plain": [
       "Row(X=7, Y=5, month='mar', FFMC=86.2, DMC=26.2, DC=94.3, ISI=5.1, temp=8.2, RH=51, wind=6.7, rain=0.0, area=0.0)"
      ]
     },
     "execution_count": 16,
     "metadata": {},
     "output_type": "execute_result"
    }
   ],
   "source": [
    "fire_df = spark_df.drop('day')\n",
    "fire_df.head()"
   ]
  },
  {
   "cell_type": "markdown",
   "metadata": {},
   "source": [
    "In order for us to run our model, we need to turn the months variable into a dummy variable. In `ml` this is a 2-step process that first requires turning the categorical variable into a numerical index (`StringIndexer`). Only after the variable is an integer can PySpark create dummy variable columns related to each category (`OneHotEncoderEstimator`). Your key parameters when using these `ml` estimators are: `inputCol` (the column you want to change) and `outputCol` (where you will store the changed column). Here it is in action: "
   ]
  },
  {
   "cell_type": "code",
   "execution_count": 17,
   "metadata": {},
   "outputs": [],
   "source": [
    "si = StringIndexer(inputCol='month', outputCol='month_num')\n",
    "model = si.fit(fire_df)\n",
    "new_df = model.transform(fire_df)"
   ]
  },
  {
   "cell_type": "markdown",
   "metadata": {},
   "source": [
    "Note the small, but critical distinction between `sklearn`'s implementation of a transformer and PySpark's implementation. `sklearn` is more object oriented and Spark is more functional oriented."
   ]
  },
  {
   "cell_type": "code",
   "execution_count": 18,
   "metadata": {},
   "outputs": [
    {
     "data": {
      "text/plain": [
       "pyspark.ml.feature.StringIndexer"
      ]
     },
     "execution_count": 18,
     "metadata": {},
     "output_type": "execute_result"
    }
   ],
   "source": [
    "## this is an estimator (an untrained transformer)\n",
    "type(si)"
   ]
  },
  {
   "cell_type": "code",
   "execution_count": 19,
   "metadata": {},
   "outputs": [
    {
     "data": {
      "text/plain": [
       "pyspark.ml.feature.StringIndexerModel"
      ]
     },
     "execution_count": 19,
     "metadata": {},
     "output_type": "execute_result"
    }
   ],
   "source": [
    "## this is a transformer (a trained transformer)\n",
    "type(model)"
   ]
  },
  {
   "cell_type": "code",
   "execution_count": 20,
   "metadata": {},
   "outputs": [
    {
     "data": {
      "text/plain": [
       "['aug',\n",
       " 'sep',\n",
       " 'mar',\n",
       " 'jul',\n",
       " 'feb',\n",
       " 'jun',\n",
       " 'oct',\n",
       " 'apr',\n",
       " 'dec',\n",
       " 'jan',\n",
       " 'may',\n",
       " 'nov']"
      ]
     },
     "execution_count": 20,
     "metadata": {},
     "output_type": "execute_result"
    }
   ],
   "source": [
    "model.labels"
   ]
  },
  {
   "cell_type": "code",
   "execution_count": 21,
   "metadata": {},
   "outputs": [
    {
     "data": {
      "text/plain": [
       "[Row(X=7, Y=5, month='mar', FFMC=86.2, DMC=26.2, DC=94.3, ISI=5.1, temp=8.2, RH=51, wind=6.7, rain=0.0, area=0.0, month_num=2.0),\n",
       " Row(X=7, Y=4, month='oct', FFMC=90.6, DMC=35.4, DC=669.1, ISI=6.7, temp=18.0, RH=33, wind=0.9, rain=0.0, area=0.0, month_num=6.0),\n",
       " Row(X=7, Y=4, month='oct', FFMC=90.6, DMC=43.7, DC=686.9, ISI=6.7, temp=14.6, RH=33, wind=1.3, rain=0.0, area=0.0, month_num=6.0),\n",
       " Row(X=8, Y=6, month='mar', FFMC=91.7, DMC=33.3, DC=77.5, ISI=9.0, temp=8.3, RH=97, wind=4.0, rain=0.2, area=0.0, month_num=2.0)]"
      ]
     },
     "execution_count": 21,
     "metadata": {},
     "output_type": "execute_result"
    }
   ],
   "source": [
    "new_df.head(4)"
   ]
  },
  {
   "cell_type": "markdown",
   "metadata": {},
   "source": [
    "As you can see, we have created a new column called `'month_num'` that represents the month by a number. Now that we have performed this step, we can use Spark's version of `OneHotEncoder()` - `OneHotEncoderEstimator()`. Let's make sure we have an accurate representation of the months."
   ]
  },
  {
   "cell_type": "code",
   "execution_count": 22,
   "metadata": {},
   "outputs": [
    {
     "data": {
      "text/plain": [
       "[Row(month_num=8.0),\n",
       " Row(month_num=0.0),\n",
       " Row(month_num=7.0),\n",
       " Row(month_num=1.0),\n",
       " Row(month_num=4.0),\n",
       " Row(month_num=11.0),\n",
       " Row(month_num=3.0),\n",
       " Row(month_num=2.0),\n",
       " Row(month_num=10.0),\n",
       " Row(month_num=6.0),\n",
       " Row(month_num=5.0),\n",
       " Row(month_num=9.0)]"
      ]
     },
     "execution_count": 22,
     "metadata": {},
     "output_type": "execute_result"
    }
   ],
   "source": [
    "new_df.select('month_num').distinct().collect()"
   ]
  },
  {
   "cell_type": "code",
   "execution_count": 23,
   "metadata": {},
   "outputs": [
    {
     "data": {
      "text/plain": [
       "Row(X=7, Y=5, month='mar', FFMC=86.2, DMC=26.2, DC=94.3, ISI=5.1, temp=8.2, RH=51, wind=6.7, rain=0.0, area=0.0, month_num=2.0, month_vec=SparseVector(11, {2: 1.0}))"
      ]
     },
     "execution_count": 23,
     "metadata": {},
     "output_type": "execute_result"
    }
   ],
   "source": [
    "## fitting and transforming the OneHotEncoderEstimator\n",
    "# ohe = feature.OneHotEncoderEstimator(inputCols=['month_num'], outputCols=['month_vec'], dropLast=True)\n",
    "ohe = feature.OneHotEncoder(inputCols=['month_num'], outputCols=['month_vec'], dropLast=True)\n",
    "one_hot_encoded = ohe.fit(new_df).transform(new_df)\n",
    "one_hot_encoded.head()"
   ]
  },
  {
   "cell_type": "markdown",
   "metadata": {},
   "source": [
    "Great, we now have a OneHotEncoded sparse vector in the `'month_vec'` column! Because Spark is optimized for big data, sparse vectors are used rather than entirely new columns for dummy variables because it is more space efficient. You can see in this first row of the DataFrame:  \n",
    "\n",
    "`month_vec=SparseVector(11, {2: 1.0})` this indicates that we have a sparse vector of size 11 (because of the parameter `dropLast = True` in `OneHotEncoderEstimator()`) and this particular data point is the 2nd index of our month labels (march, based off the labels in the `model` StringEstimator transformer).  \n",
    "\n",
    "The final requirement for all machine learning models in PySpark is to put all of the features of your model into one sparse vector. This is once again for efficiency sake. Here, we are doing that with the `VectorAssembler()` estimator."
   ]
  },
  {
   "cell_type": "code",
   "execution_count": 24,
   "metadata": {},
   "outputs": [],
   "source": [
    "features = ['X',\n",
    " 'Y',\n",
    " 'FFMC',\n",
    " 'DMC',\n",
    " 'DC',\n",
    " 'ISI',\n",
    " 'temp',\n",
    " 'RH',\n",
    " 'wind',\n",
    " 'rain',\n",
    " 'month_vec']\n",
    "\n",
    "target = 'area'\n",
    "\n",
    "vector = VectorAssembler(inputCols=features, outputCol='features')\n",
    "vectorized_df = vector.transform(one_hot_encoded)"
   ]
  },
  {
   "cell_type": "code",
   "execution_count": 25,
   "metadata": {},
   "outputs": [
    {
     "data": {
      "text/plain": [
       "Row(X=7, Y=5, month='mar', FFMC=86.2, DMC=26.2, DC=94.3, ISI=5.1, temp=8.2, RH=51, wind=6.7, rain=0.0, area=0.0, month_num=2.0, month_vec=SparseVector(11, {2: 1.0}), features=SparseVector(21, {0: 7.0, 1: 5.0, 2: 86.2, 3: 26.2, 4: 94.3, 5: 5.1, 6: 8.2, 7: 51.0, 8: 6.7, 12: 1.0}))"
      ]
     },
     "execution_count": 25,
     "metadata": {},
     "output_type": "execute_result"
    }
   ],
   "source": [
    "vectorized_df.head()"
   ]
  },
  {
   "cell_type": "markdown",
   "metadata": {},
   "source": [
    "Great! We now have our data in a format that seems acceptable for the last step. It's time for us to actually fit our model to data! Let's fit a Random Forest Regression model to our data. Although there are still a bunch of other features in the DataFrame, it doesn't matter for the machine learning model API. All that needs to be specified are the names of the features column and the label column. "
   ]
  },
  {
   "cell_type": "code",
   "execution_count": 26,
   "metadata": {},
   "outputs": [],
   "source": [
    "## instantiating and fitting the model\n",
    "rf_model = RandomForestRegressor(featuresCol='features', \n",
    "                                 labelCol='area', predictionCol='prediction').fit(vectorized_df)"
   ]
  },
  {
   "cell_type": "code",
   "execution_count": 27,
   "metadata": {},
   "outputs": [
    {
     "data": {
      "text/plain": [
       "SparseVector(21, {0: 0.1267, 1: 0.0504, 2: 0.127, 3: 0.1225, 4: 0.0548, 5: 0.1349, 6: 0.1166, 7: 0.1761, 8: 0.0597, 10: 0.0027, 11: 0.0244, 12: 0.0002, 13: 0.0028, 15: 0.0001, 17: 0.0004, 18: 0.0003, 20: 0.0003})"
      ]
     },
     "execution_count": 27,
     "metadata": {},
     "output_type": "execute_result"
    }
   ],
   "source": [
    "rf_model.featureImportances"
   ]
  },
  {
   "cell_type": "code",
   "execution_count": 28,
   "metadata": {},
   "outputs": [
    {
     "data": {
      "text/plain": [
       "[Row(area=0.0, prediction=5.9731754085215565),\n",
       " Row(area=0.0, prediction=5.243937478846037),\n",
       " Row(area=0.0, prediction=5.340403303347409),\n",
       " Row(area=0.0, prediction=9.999683724267955),\n",
       " Row(area=0.0, prediction=9.373313124368025),\n",
       " Row(area=0.0, prediction=9.538421143490584),\n",
       " Row(area=0.0, prediction=13.168232236881767),\n",
       " Row(area=0.0, prediction=8.27318413655914),\n",
       " Row(area=0.0, prediction=6.792491093519331),\n",
       " Row(area=0.0, prediction=16.88188068000005)]"
      ]
     },
     "execution_count": 28,
     "metadata": {},
     "output_type": "execute_result"
    }
   ],
   "source": [
    "## generating predictions\n",
    "predictions = rf_model.transform(vectorized_df).select('area', 'prediction')\n",
    "predictions.head(10)"
   ]
  },
  {
   "cell_type": "markdown",
   "metadata": {},
   "source": [
    "Now we can evaluate how well the model performed using `RegressionEvaluator`."
   ]
  },
  {
   "cell_type": "code",
   "execution_count": 29,
   "metadata": {},
   "outputs": [],
   "source": [
    "from pyspark.ml.evaluation import RegressionEvaluator\n",
    "evaluator = RegressionEvaluator(predictionCol='prediction', labelCol='area')"
   ]
  },
  {
   "cell_type": "code",
   "execution_count": 30,
   "metadata": {},
   "outputs": [
    {
     "data": {
      "text/plain": [
       "0.6697289134295856"
      ]
     },
     "execution_count": 30,
     "metadata": {},
     "output_type": "execute_result"
    }
   ],
   "source": [
    "## evaluating r^2\n",
    "evaluator.evaluate(predictions,{evaluator.metricName: 'r2'})"
   ]
  },
  {
   "cell_type": "code",
   "execution_count": 31,
   "metadata": {},
   "outputs": [
    {
     "data": {
      "text/plain": [
       "14.040056700481035"
      ]
     },
     "execution_count": 31,
     "metadata": {},
     "output_type": "execute_result"
    }
   ],
   "source": [
    "## evaluating mean absolute error\n",
    "evaluator.evaluate(predictions,{evaluator.metricName: 'mae'})"
   ]
  },
  {
   "cell_type": "markdown",
   "metadata": {},
   "source": [
    "## Putting it all in a Pipeline\n",
    "\n",
    "We just performed a whole lot of transformations to our data. Let's take a look at all the estimators we used to create this model:\n",
    "\n",
    "* `StringIndexer()` \n",
    "* `OneHotEnconderEstimator()` \n",
    "* `VectorAssembler()` \n",
    "* `RandomForestRegressor()` \n",
    "\n",
    "Once we've fit our model in the Pipeline, we're then going to want to evaluate it to determine how well it performs. We can do this with:\n",
    "\n",
    "* `RegressionEvaluator()` \n",
    "\n",
    "We can streamline all of these transformations to make it much more efficient by chaining them together in a pipeline. The Pipeline object expects a list of the estimators prior set to the parameter `stages`."
   ]
  },
  {
   "cell_type": "code",
   "execution_count": 32,
   "metadata": {},
   "outputs": [],
   "source": [
    "# importing relevant libraries\n",
    "from pyspark.ml.tuning import ParamGridBuilder, TrainValidationSplit, CrossValidator\n",
    "from pyspark.ml import Pipeline"
   ]
  },
  {
   "cell_type": "code",
   "execution_count": 33,
   "metadata": {},
   "outputs": [],
   "source": [
    "## instantiating all necessary estimator objects\n",
    "\n",
    "string_indexer = StringIndexer(inputCol='month', outputCol='month_num', handleInvalid='keep')\n",
    "# one_hot_encoder = OneHotEncoderEstimator(inputCols=['month_num'], outputCols=['month_vec'], dropLast=True)\n",
    "one_hot_encoder = OneHotEncoder(inputCols=['month_num'], outputCols=['month_vec'], dropLast=True)\n",
    "vector_assember = VectorAssembler(inputCols=features, outputCol='features')\n",
    "random_forest = RandomForestRegressor(featuresCol='features', labelCol='area')\n",
    "stages = [string_indexer, one_hot_encoder, vector_assember, random_forest]\n",
    "\n",
    "# instantiating the pipeline with all them estimator objects\n",
    "pipeline = Pipeline(stages=stages)"
   ]
  },
  {
   "cell_type": "markdown",
   "metadata": {},
   "source": [
    "### Cross-validation \n",
    "\n",
    "You might have missed a critical step in the random forest regression above; we did not cross validate or perform a train/test split! Now we're going to fix that by performing cross-validation and also testing out multiple different combinations of parameters in PySpark's `GridSearch()` equivalent. To begin with, we will create a parameter grid that contains the different parameters we want to use in our model."
   ]
  },
  {
   "cell_type": "code",
   "execution_count": 34,
   "metadata": {},
   "outputs": [],
   "source": [
    "# creating parameter grid\n",
    "\n",
    "params = ParamGridBuilder() \\\n",
    "    .addGrid(random_forest.maxDepth, [5, 10, 15]) \\\n",
    "    .addGrid(random_forest.numTrees, [20 ,50, 100]) \\\n",
    "    .build()"
   ]
  },
  {
   "cell_type": "markdown",
   "metadata": {},
   "source": [
    "Let's take a look at the params variable we just built."
   ]
  },
  {
   "cell_type": "code",
   "execution_count": 35,
   "metadata": {},
   "outputs": [
    {
     "name": "stdout",
     "output_type": "stream",
     "text": [
      "total combinations of parameters:  9\n"
     ]
    },
    {
     "data": {
      "text/plain": [
       "{Param(parent='RandomForestRegressor_5c93ab8a2ea6', name='maxDepth', doc='Maximum depth of the tree. (>= 0) E.g., depth 0 means 1 leaf node; depth 1 means 1 internal node + 2 leaf nodes.'): 5,\n",
       " Param(parent='RandomForestRegressor_5c93ab8a2ea6', name='numTrees', doc='Number of trees to train (>= 1).'): 20}"
      ]
     },
     "execution_count": 35,
     "metadata": {},
     "output_type": "execute_result"
    }
   ],
   "source": [
    "print('total combinations of parameters: ', len(params))\n",
    "\n",
    "params[0]"
   ]
  },
  {
   "cell_type": "markdown",
   "metadata": {},
   "source": [
    "Now it's time to combine all the steps we've created to work in a single line of code with the `CrossValidator()` estimator."
   ]
  },
  {
   "cell_type": "code",
   "execution_count": 36,
   "metadata": {},
   "outputs": [],
   "source": [
    "## instantiating the evaluator by which we will measure our model's performance\n",
    "reg_evaluator = RegressionEvaluator(predictionCol='prediction', labelCol='area', metricName = 'mae')\n",
    "\n",
    "## instantiating crossvalidator estimator\n",
    "cv = CrossValidator(estimator=pipeline, estimatorParamMaps=params, evaluator=reg_evaluator, parallelism=4)"
   ]
  },
  {
   "cell_type": "code",
   "execution_count": 37,
   "metadata": {},
   "outputs": [],
   "source": [
    "## fitting crossvalidator\n",
    "cross_validated_model = cv.fit(fire_df)"
   ]
  },
  {
   "cell_type": "markdown",
   "metadata": {},
   "source": [
    "Now, let's see how well the model performed! Let's take a look at the average performance for each one of our 9 models. It looks like the optimal performance is an MAE around 23. Note that this is worse than our original model, but that's because our original model had substantial data leakage. We didn't do a train-test split!"
   ]
  },
  {
   "cell_type": "code",
   "execution_count": 38,
   "metadata": {
    "scrolled": true
   },
   "outputs": [
    {
     "data": {
      "text/plain": [
       "[20.521061287064047,\n",
       " 21.261919657451106,\n",
       " 20.689726306037127,\n",
       " 21.079360784698505,\n",
       " 22.19779599299413,\n",
       " 21.590104228533953,\n",
       " 21.282264550314945,\n",
       " 22.271611960582593,\n",
       " 21.64819191597745]"
      ]
     },
     "execution_count": 38,
     "metadata": {},
     "output_type": "execute_result"
    }
   ],
   "source": [
    "cross_validated_model.avgMetrics"
   ]
  },
  {
   "cell_type": "markdown",
   "metadata": {},
   "source": [
    "Now, let's take a look at the optimal parameters of our best performing model. The `cross_validated_model` variable is now saved as the best performing model from the grid search just performed. Let's look to see how well the predictions performed. As you can see, this dataset has a large number of areas of \"0.0\" burned. Perhaps, it would be better to investigate this problem as a classification task."
   ]
  },
  {
   "cell_type": "code",
   "execution_count": 39,
   "metadata": {},
   "outputs": [
    {
     "name": "stdout",
     "output_type": "stream",
     "text": [
      "+------------------+-------+\n",
      "|        prediction|   area|\n",
      "+------------------+-------+\n",
      "| 5.344378492609289|    0.0|\n",
      "| 5.014047501932212|    0.0|\n",
      "| 5.327000161078062|    0.0|\n",
      "| 4.668097995796524|    0.0|\n",
      "| 6.777132086705615|    0.0|\n",
      "| 8.586030297195839|    0.0|\n",
      "| 4.770141786832419|    0.0|\n",
      "| 12.22821564455912|    0.0|\n",
      "|45.769015994271065|    0.0|\n",
      "| 6.894445964931448|    0.0|\n",
      "|5.5688784861437775|    0.0|\n",
      "| 5.539948578564815|    0.0|\n",
      "| 5.291653945339125|    0.0|\n",
      "| 7.213485683270932|    0.0|\n",
      "|135.84409326686384|    0.0|\n",
      "| 6.864373402150177|    0.0|\n",
      "| 5.442811740895849|    0.0|\n",
      "| 5.821157391478382|    0.0|\n",
      "| 5.468678791765712|    0.0|\n",
      "|  5.79231340914347|    0.0|\n",
      "|   8.1845582718443|    0.0|\n",
      "| 4.991972049028277|    0.0|\n",
      "| 6.855903785895498|    0.0|\n",
      "|11.813563076736502|    0.0|\n",
      "| 9.346194981472971|    0.0|\n",
      "|  9.34263715146297|    0.0|\n",
      "| 7.317646169845797|    0.0|\n",
      "| 7.628679830679991|    0.0|\n",
      "|18.290233022632382|    0.0|\n",
      "|10.279061595400243|    0.0|\n",
      "| 99.54298378039577|    0.0|\n",
      "|6.5565837382082375|    0.0|\n",
      "|6.8653435242367795|    0.0|\n",
      "| 6.520165200868128|    0.0|\n",
      "| 5.914911510888469|    0.0|\n",
      "|6.9924033453822805|    0.0|\n",
      "|32.420417575460846|    0.0|\n",
      "| 5.388751728437477|    0.0|\n",
      "| 86.42706111831198|    0.0|\n",
      "| 4.869637402468214|    0.0|\n",
      "|18.220421195624684|    0.0|\n",
      "| 5.035178038129154|    0.0|\n",
      "| 4.238618315497964|    0.0|\n",
      "| 5.358233870416207|    0.0|\n",
      "| 5.593403593388948|    0.0|\n",
      "|144.03556566354905|    0.0|\n",
      "| 6.723693084935041|    0.0|\n",
      "|4.8269786838040165|    0.0|\n",
      "| 5.267814529507842|    0.0|\n",
      "| 5.012703958515412|    0.0|\n",
      "|11.088881681467894|    0.0|\n",
      "| 5.872016951909073|    0.0|\n",
      "|  5.17482785241241|    0.0|\n",
      "|  5.17482785241241|    0.0|\n",
      "|5.3724392086343595|    0.0|\n",
      "|16.749892981655304|    0.0|\n",
      "| 5.999456630344081|    0.0|\n",
      "| 4.676483742757261|    0.0|\n",
      "| 4.333005157375096|    0.0|\n",
      "|15.135103940455219|    0.0|\n",
      "|3.7466207091162635|    0.0|\n",
      "|3.7466207091162635|    0.0|\n",
      "| 7.585880453833093|    0.0|\n",
      "|  4.06837664492959|    0.0|\n",
      "| 4.373568311596257|    0.0|\n",
      "| 7.702055964256372|    0.0|\n",
      "| 6.567613153394802|    0.0|\n",
      "| 7.913575208232011|    0.0|\n",
      "| 8.570575208232011|    0.0|\n",
      "|  4.20835913557128|    0.0|\n",
      "| 58.17197263793203|    0.0|\n",
      "|4.3399541511098665|    0.0|\n",
      "| 4.703481980398866|    0.0|\n",
      "|12.445878791767278|    0.0|\n",
      "| 6.603553678851426|    0.0|\n",
      "| 5.604499374210285|    0.0|\n",
      "| 5.745381809995946|    0.0|\n",
      "| 5.563288022799407|    0.0|\n",
      "| 4.246174073183189|    0.0|\n",
      "| 34.46577856944958|    0.0|\n",
      "| 7.891433383437894|    0.0|\n",
      "|   9.0154971386235|    0.0|\n",
      "|3.2081275820797854|    0.0|\n",
      "|18.837433461918135|    0.0|\n",
      "| 10.13852263988441|    0.0|\n",
      "| 8.588410071342365|    0.0|\n",
      "|13.232405375818365|    0.0|\n",
      "|12.493098534701597|    0.0|\n",
      "| 6.880228982652737|    0.0|\n",
      "| 5.879713986156623|    0.0|\n",
      "| 5.249548028608824|    0.0|\n",
      "| 4.962337939761053|    0.0|\n",
      "|  9.94144340814403|    0.0|\n",
      "|19.084588589222324|    0.0|\n",
      "| 5.694913044182158|    0.0|\n",
      "| 5.427610649309428|    0.0|\n",
      "|5.9798676245615745|    0.0|\n",
      "|3.9819477306587365|    0.0|\n",
      "| 5.360786997681813|    0.0|\n",
      "| 8.133634399249244|    0.0|\n",
      "| 8.133634399249244|    0.0|\n",
      "| 5.348840027984844|    0.0|\n",
      "|3.7072895336537846|    0.0|\n",
      "| 6.373574539760997|    0.0|\n",
      "| 5.614454975830606|    0.0|\n",
      "| 4.855706113687826|    0.0|\n",
      "| 4.629644249738932|    0.0|\n",
      "| 5.012950420570738|    0.0|\n",
      "| 5.043994435917926|    0.0|\n",
      "| 5.250130253021149|    0.0|\n",
      "| 5.052453958515413|    0.0|\n",
      "| 4.104855891405014|    0.0|\n",
      "| 5.411544304058409|    0.0|\n",
      "| 5.104519017337746|    0.0|\n",
      "|3.9095670210905276|    0.0|\n",
      "| 2.858516756908103|    0.0|\n",
      "| 4.991779489466581|    0.0|\n",
      "|4.7852630144341015|    0.0|\n",
      "| 4.548817223848426|    0.0|\n",
      "| 4.802646350916597|    0.0|\n",
      "| 5.217720441634616|    0.0|\n",
      "| 5.741846806294253|    0.0|\n",
      "| 7.188498178662354|    0.0|\n",
      "| 4.781974745972524|    0.0|\n",
      "|4.9597166920593505|    0.0|\n",
      "| 4.291550571008304|    0.0|\n",
      "|4.3406816484208575|    0.0|\n",
      "|  6.50635159716194|    0.0|\n",
      "| 4.532637440351402|    0.0|\n",
      "| 8.819714450165117|    0.0|\n",
      "|4.9745855035865745|    0.0|\n",
      "| 4.672889557640628|    0.0|\n",
      "|  5.82011979391462|    0.0|\n",
      "| 4.173198801672614|    0.0|\n",
      "|4.3406816484208575|    0.0|\n",
      "| 6.317025467407949|    0.0|\n",
      "|7.2392208244121905|    0.0|\n",
      "| 6.521861773459631|    0.0|\n",
      "|  9.07038562301643|   0.36|\n",
      "|13.384193685562778|   0.43|\n",
      "|10.374642381047519|   0.47|\n",
      "| 3.445313892238777|   0.55|\n",
      "| 17.39026811671663|   0.61|\n",
      "| 4.341378369968433|   0.71|\n",
      "| 5.348032562423512|   0.77|\n",
      "|10.882249610937109|    0.9|\n",
      "|5.2013388045000095|   0.95|\n",
      "| 13.65495295518779|   0.96|\n",
      "| 3.413676369450607|   1.07|\n",
      "|46.318820331932905|   1.12|\n",
      "| 6.340776328981944|   1.19|\n",
      "|   8.3703310712588|   1.36|\n",
      "| 8.012624470769534|   1.43|\n",
      "|5.1787742317418894|   1.46|\n",
      "|21.911863092460845|   1.46|\n",
      "| 4.412823358853976|   1.56|\n",
      "|22.967679759127513|   1.61|\n",
      "| 6.379741761663373|   1.63|\n",
      "| 4.450683103928125|   1.64|\n",
      "| 7.317646169845797|   1.69|\n",
      "| 5.080871948488005|   1.75|\n",
      "| 5.668619726243916|    1.9|\n",
      "| 6.797855126138304|   1.94|\n",
      "| 67.12409219403386|   1.95|\n",
      "| 5.556381884311973|   2.01|\n",
      "|5.2769326087797035|   2.14|\n",
      "| 6.394977968172585|   2.29|\n",
      "| 7.399030529323778|   2.51|\n",
      "|10.256871136670918|   2.53|\n",
      "| 7.201168302368475|   2.55|\n",
      "| 6.587359612505779|   2.57|\n",
      "| 7.050457476224492|   2.69|\n",
      "|11.532593432942551|   2.74|\n",
      "| 6.838996759581124|   3.07|\n",
      "| 4.210752719409863|    3.5|\n",
      "|  6.55714905518504|   4.53|\n",
      "| 5.595565564315885|   4.61|\n",
      "| 4.924362403743193|   4.69|\n",
      "| 9.523375798798464|   4.88|\n",
      "|11.587386666316045|   5.23|\n",
      "| 7.208927313627636|   5.33|\n",
      "|15.537890440907026|   5.44|\n",
      "|  5.17133334841416|   6.38|\n",
      "| 10.66450832089161|   6.83|\n",
      "| 8.796825494231964|   6.96|\n",
      "| 6.575496555998889|   7.04|\n",
      "| 8.674975930120825|   7.19|\n",
      "| 13.08782211331319|    7.3|\n",
      "| 5.875297509940408|    7.4|\n",
      "| 5.459936936562092|   8.24|\n",
      "| 5.498214285352975|   8.31|\n",
      "|  7.49752972284964|   8.68|\n",
      "| 5.712720820746089|   8.71|\n",
      "|  22.8394937308505|   9.41|\n",
      "| 5.712720820746089|  10.01|\n",
      "| 4.640294979244329|  10.02|\n",
      "| 5.595565564315885|  10.93|\n",
      "|13.489600072272491|  11.06|\n",
      "| 7.413190147652365|  11.24|\n",
      "| 5.213112557904666|  11.32|\n",
      "|13.308573725350575|  11.53|\n",
      "| 5.678549665112822|   12.1|\n",
      "| 5.691029206251136|  13.05|\n",
      "| 6.074113136950621|   13.7|\n",
      "| 4.861524403625227|  13.99|\n",
      "| 6.390611767678192|  14.57|\n",
      "| 6.166280579605757|  15.45|\n",
      "| 6.810198476816149|   17.2|\n",
      "| 7.773312090840993|  19.23|\n",
      "| 49.83748699859957|  23.41|\n",
      "|11.142347386175908|  24.23|\n",
      "|10.462146231542512|   26.0|\n",
      "| 6.006596444621353|  26.13|\n",
      "| 7.334447179120039|  27.35|\n",
      "| 8.087842524558795|  28.66|\n",
      "| 8.087842524558795|  28.66|\n",
      "| 7.637799980715187|  29.48|\n",
      "| 6.417102625632886|  30.32|\n",
      "| 20.13263550299559|  31.72|\n",
      "|10.234182221653416|  31.86|\n",
      "| 7.935668061565768|  32.07|\n",
      "| 6.095897681510767|  35.88|\n",
      "|  5.67502264502616|  36.85|\n",
      "| 33.86539381404744|  37.02|\n",
      "|7.8825196850431025|  37.71|\n",
      "|10.376940016496444|  48.55|\n",
      "|10.521441764844411|  49.37|\n",
      "|18.626537826627285|   58.3|\n",
      "| 122.8995651366607|   64.1|\n",
      "|19.469974556249916|   71.3|\n",
      "| 25.26025784652017|  88.49|\n",
      "| 48.32632554096007|  95.18|\n",
      "|   8.3599826415922| 103.39|\n",
      "|31.451220809046827| 105.66|\n",
      "|60.190139493338094| 154.88|\n",
      "| 42.09956294305477| 196.48|\n",
      "| 69.05782973975008| 200.94|\n",
      "| 71.21245382938848| 212.88|\n",
      "| 608.1978769631703|1090.84|\n",
      "| 6.014697149194078|    0.0|\n",
      "| 6.027273872940355|    0.0|\n",
      "| 6.530333419312188|    0.0|\n",
      "| 5.383242488314667|  10.13|\n",
      "| 7.781780243967577|    0.0|\n",
      "| 5.761008008484134|   2.87|\n",
      "|  10.5663242184961|   0.76|\n",
      "| 9.144770660340418|   0.09|\n",
      "| 4.588230996528582|   0.75|\n",
      "| 11.93810620004541|    0.0|\n",
      "|4.1256367577134885|   2.47|\n",
      "| 9.460696895596893|   0.68|\n",
      "| 5.832257247984906|   0.24|\n",
      "| 4.321506194396663|   0.21|\n",
      "| 9.083548756859999|   1.52|\n",
      "|  9.91047391008724|  10.34|\n",
      "| 5.259986555620391|    0.0|\n",
      "| 9.062274274608443|   8.02|\n",
      "| 4.831801131244614|   0.68|\n",
      "|3.9067652786547704|    0.0|\n",
      "| 4.638569328450234|   1.38|\n",
      "| 7.917267080892809|   8.85|\n",
      "| 4.538954467416067|    3.3|\n",
      "|  4.97185401691369|   4.25|\n",
      "| 9.708230970842576|   1.56|\n",
      "| 4.356186721638453|   6.54|\n",
      "| 5.981222118165152|   0.79|\n",
      "| 5.179933716918361|   0.17|\n",
      "|4.0624304190500595|    0.0|\n",
      "| 4.844270511233678|    0.0|\n",
      "| 4.984917439987683|    4.4|\n",
      "| 3.718501233400488|   0.52|\n",
      "|13.562161215112772|   9.27|\n",
      "| 3.523078111915864|   3.09|\n",
      "| 7.888587216136678|   8.98|\n",
      "| 9.301527172819009|  11.19|\n",
      "| 6.781372088873537|   5.38|\n",
      "|12.636439208047253|  17.85|\n",
      "|10.716174561582605|  10.73|\n",
      "|12.636439208047253|  22.03|\n",
      "|12.636439208047253|   9.77|\n",
      "| 6.781372088873537|   9.27|\n",
      "|14.737702420992116|  24.77|\n",
      "| 6.311565539607022|    0.0|\n",
      "| 5.823946266752716|    1.1|\n",
      "|  7.28530797466744|  24.24|\n",
      "| 3.949170895432155|    0.0|\n",
      "| 9.023930074128058|    0.0|\n",
      "| 7.641180895980763|    0.0|\n",
      "| 7.560065841351485|    0.0|\n",
      "| 9.533577440389443|    0.0|\n",
      "| 4.216474212749325|    0.0|\n",
      "|14.711289879829403|    8.0|\n",
      "| 4.093329545117275|   2.64|\n",
      "| 67.59835696148863|  86.45|\n",
      "| 6.939131379316966|   6.57|\n",
      "| 9.290388579841245|    0.0|\n",
      "| 9.175524725455276|    0.9|\n",
      "| 6.007818428062215|    0.0|\n",
      "| 25.85872532720747|    0.0|\n",
      "| 5.494089871037453|    0.0|\n",
      "+------------------+-------+\n",
      "only showing top 300 rows\n",
      "\n"
     ]
    }
   ],
   "source": [
    "predictions = cross_validated_model.transform(spark_df)\n",
    "predictions.select('prediction', 'area').show(300)"
   ]
  },
  {
   "cell_type": "markdown",
   "metadata": {},
   "source": [
    "Now let's go ahead and take a look at the feature importances of our random forest model. In order to do this, we need to unroll our pipeline to access the random forest model. Let's start by first checking out the `.bestModel` attribute of our `cross_validated_model`. "
   ]
  },
  {
   "cell_type": "code",
   "execution_count": 40,
   "metadata": {
    "slideshow": {
     "slide_type": "slide"
    }
   },
   "outputs": [
    {
     "data": {
      "text/plain": [
       "pyspark.ml.pipeline.PipelineModel"
      ]
     },
     "execution_count": 40,
     "metadata": {},
     "output_type": "execute_result"
    }
   ],
   "source": [
    "type(cross_validated_model.bestModel)"
   ]
  },
  {
   "cell_type": "markdown",
   "metadata": {},
   "source": [
    "`ml` is treating the entire pipeline as the best performing model, so we need to go deeper into the pipeline to access the random forest model within it. Previously, we put the random forest model as the final \"stage\" in the stages variable list. Let's look at the `.stages` attribute of the `.bestModel`."
   ]
  },
  {
   "cell_type": "code",
   "execution_count": 41,
   "metadata": {},
   "outputs": [
    {
     "data": {
      "text/plain": [
       "[StringIndexerModel: uid=StringIndexer_fb04016382d8, handleInvalid=keep,\n",
       " OneHotEncoderModel: uid=OneHotEncoder_8bbf126ec8c2, dropLast=true, handleInvalid=error, numInputCols=1, numOutputCols=1,\n",
       " VectorAssembler_d9abc62b3350,\n",
       " RandomForestRegressionModel: uid=RandomForestRegressor_5c93ab8a2ea6, numTrees=20, numFeatures=22]"
      ]
     },
     "execution_count": 41,
     "metadata": {},
     "output_type": "execute_result"
    }
   ],
   "source": [
    "cross_validated_model.bestModel.stages"
   ]
  },
  {
   "cell_type": "markdown",
   "metadata": {},
   "source": [
    "Perfect! There's the RandomForestRegressionModel, represented by the last item in the stages list. Now, we should be able to access all the attributes of the random forest regressor."
   ]
  },
  {
   "cell_type": "code",
   "execution_count": 42,
   "metadata": {},
   "outputs": [],
   "source": [
    "optimal_rf_model = cross_validated_model.bestModel.stages[3]"
   ]
  },
  {
   "cell_type": "code",
   "execution_count": 43,
   "metadata": {},
   "outputs": [
    {
     "data": {
      "text/plain": [
       "SparseVector(22, {0: 0.0569, 1: 0.0858, 2: 0.1186, 3: 0.0959, 4: 0.2254, 5: 0.0225, 6: 0.1106, 7: 0.0833, 8: 0.1379, 10: 0.0156, 11: 0.0368, 12: 0.0002, 13: 0.0086, 15: 0.0001, 16: 0.0003, 17: 0.0008, 18: 0.0002, 20: 0.0005})"
      ]
     },
     "execution_count": 43,
     "metadata": {},
     "output_type": "execute_result"
    }
   ],
   "source": [
    "optimal_rf_model.featureImportances"
   ]
  },
  {
   "cell_type": "code",
   "execution_count": 44,
   "metadata": {},
   "outputs": [
    {
     "data": {
      "text/plain": [
       "20"
      ]
     },
     "execution_count": 44,
     "metadata": {},
     "output_type": "execute_result"
    }
   ],
   "source": [
    "optimal_rf_model.getNumTrees"
   ]
  },
  {
   "cell_type": "markdown",
   "metadata": {},
   "source": [
    "## Summary\n",
    "\n",
    "In this lesson, you learned about PySpark's DataFrames, machine learning models, and pipelines. With the use of a pipeline, you can train a huge number of models simultaneously, saving you a substantial amount of time and effort. Up next, you will have a chance to build a PySpark machine learning pipeline of your own with a classification problem!"
   ]
  }
 ],
 "metadata": {
  "kernelspec": {
   "display_name": "Python 3",
   "language": "python",
   "name": "python3"
  },
  "language_info": {
   "codemirror_mode": {
    "name": "ipython",
    "version": 3
   },
   "file_extension": ".py",
   "mimetype": "text/x-python",
   "name": "python",
   "nbconvert_exporter": "python",
   "pygments_lexer": "ipython3",
   "version": "3.8.5"
  }
 },
 "nbformat": 4,
 "nbformat_minor": 2
}
